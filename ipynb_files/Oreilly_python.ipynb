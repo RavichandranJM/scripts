{
 "metadata": {
  "name": ""
 },
 "nbformat": 3,
 "nbformat_minor": 0,
 "worksheets": [
  {
   "cells": [
    {
     "cell_type": "code",
     "collapsed": false,
     "input": [
      "#2\n",
      "def adder(a, b):\n",
      "    return a + b\n",
      "print adder(\"ahI\", \"hai\")\n",
      "print adder(5, 6)\n",
      "print adder(7.8 + 5.5, 9)"
     ],
     "language": "python",
     "metadata": {},
     "outputs": [
      {
       "output_type": "stream",
       "stream": "stdout",
       "text": [
        "ahIhai\n",
        "11\n",
        "22.3\n"
       ]
      }
     ],
     "prompt_number": 13
    },
    {
     "cell_type": "code",
     "collapsed": false,
     "input": [
      "#3\n",
      "def adder(*pargs):\n",
      "    sum = None\n",
      "    for ar in pargs:\n",
      "        if not sum:\n",
      "            if type(ar) == int:\n",
      "               sum = 0\n",
      "            elif type(ar) == str:\n",
      "                sum = \"\"\n",
      "            elif type(ar) == list:\n",
      "                sum = []\n",
      "        sum = sum + ar        \n",
      "    return sum\n",
      "print adder(2, 3)\n",
      "print adder(\"hai\", \"loop\")\n",
      "print adder()\n",
      "print adder([1, 2] + [3, 4])\n",
      "print adder(5, 4, 3)    "
     ],
     "language": "python",
     "metadata": {},
     "outputs": [
      {
       "output_type": "stream",
       "stream": "stdout",
       "text": [
        "5\n",
        "hailoop\n",
        "None\n",
        "[1, 2, 3, 4]\n",
        "12\n"
       ]
      }
     ],
     "prompt_number": 8
    },
    {
     "cell_type": "code",
     "collapsed": false,
     "input": [
      "# 4\n",
      "def adder(good = 2, bad = 3, ugly = 4):\n",
      "    return good + bad + ugly\n",
      "print adder(1)\n",
      "print adder(4, 5)\n",
      "print adder(6, 7, 8)\n",
      "print adder(0, ugly = 5, bad = 2)"
     ],
     "language": "python",
     "metadata": {},
     "outputs": [
      {
       "output_type": "stream",
       "stream": "stdout",
       "text": [
        "8\n",
        "13\n",
        "21\n",
        "7\n"
       ]
      }
     ],
     "prompt_number": 13
    },
    {
     "cell_type": "code",
     "collapsed": false,
     "input": [
      "# 4\n",
      "def adder(**dargs):\n",
      "    sum = 0\n",
      "    for k in dargs:\n",
      "        sum += dargs[k]\n",
      "    return sum\n",
      "print adder(a=1)\n",
      "print adder(a=4, b=5)\n",
      "print adder(a=6, b=7, c=8)\n",
      "print adder(b=0, ugly = 5, bad = 2)"
     ],
     "language": "python",
     "metadata": {},
     "outputs": [
      {
       "output_type": "stream",
       "stream": "stdout",
       "text": [
        "1\n",
        "9\n",
        "21\n",
        "7\n"
       ]
      }
     ],
     "prompt_number": 16
    },
    {
     "cell_type": "code",
     "collapsed": false,
     "input": [
      "# 5\n",
      "dict1 = {1:\"hai\", 2:\"good\"}\n",
      "def copyDict(dict1):\n",
      "    return dict1.copy()\n",
      "dict2 = copyDict(dict1)\n",
      "dict1[1] = \"hello\"\n",
      "print dict2"
     ],
     "language": "python",
     "metadata": {},
     "outputs": [
      {
       "output_type": "stream",
       "stream": "stdout",
       "text": [
        "{1: 'hai', 2: 'good'}\n"
       ]
      }
     ],
     "prompt_number": 20
    },
    {
     "cell_type": "code",
     "collapsed": false,
     "input": [
      "# 6\n",
      "dict1 = {1:\"hai\", 2:\"hello\"}\n",
      "dict2 = {\"name\":\"ravi\", \"middle\":\"chandran\"}\n",
      "def upddict(retdict, dict1):\n",
      "    for key in dict1:\n",
      "        if not retdict.has_key(key):\n",
      "            retdict[key] = dict1[key]\n",
      "    \n",
      "def addDict(dict1, dict2):\n",
      "    retdict = {}\n",
      "    if type(dict1) == dict and type(dict2) == dict:\n",
      "        upddict(retdict, dict1)\n",
      "        upddict(retdict, dict2)\n",
      "    elif type(dict1) == list and type(dict2) == list:\n",
      "        return dict1 + dict2\n",
      "    return retdict\n",
      "print addDict(dict1, dict2) \n",
      "print addDict([1, 2, 3], [4, 5])"
     ],
     "language": "python",
     "metadata": {},
     "outputs": [
      {
       "output_type": "stream",
       "stream": "stdout",
       "text": [
        "{1: 'hai', 2: 'hello', 'name': 'ravi', 'middle': 'chandran'}\n",
        "[1, 2, 3, 4, 5]\n"
       ]
      }
     ],
     "prompt_number": 27
    },
    {
     "cell_type": "code",
     "collapsed": false,
     "input": [
      "# 7\n",
      "def f1(a, b): \n",
      "    print(a, b)\n",
      "def f2(a, *b): \n",
      "    print(a, b) # Normal args\n",
      "def f3(a, **b): \n",
      "    print(a, b) # Keyword varargs\n",
      "def f4(a, *b, **c): \n",
      "    print(a, b, c) # Mixed modes\n",
      "def f5(a, b=2, c=3): \n",
      "    print(a, b, c) # Defaults\n",
      "def f6(a, b=2, *c): \n",
      "    print(a, b, c) # Defaults and positional varargs\n",
      "f1(1, 2)\n",
      "f1(b = 2, a = 1)\n",
      "f2(1, 2, 3)\n",
      "f3(1, x = 2, y = 3)\n",
      "f4(1, 2, 3, x = 2, y = 3)\n",
      "f5(1)\n",
      "f5(1, 4)\n",
      "f6(1)\n",
      "f6(1, 3, 4)"
     ],
     "language": "python",
     "metadata": {},
     "outputs": [
      {
       "output_type": "stream",
       "stream": "stdout",
       "text": [
        "(1, 2)\n",
        "(1, 2)\n",
        "(1, (2, 3))\n",
        "(1, {'y': 3, 'x': 2})\n",
        "(1, (2, 3), {'y': 3, 'x': 2})\n",
        "(1, 2, 3)\n",
        "(1, 4, 3)\n",
        "(1, 2, ())\n",
        "(1, 3, (4,))\n"
       ]
      }
     ],
     "prompt_number": 36
    },
    {
     "cell_type": "code",
     "collapsed": false,
     "input": [
      "# 8\n",
      "def prime_even(y):\n",
      "    if y > 1:\n",
      "        x = y // 2\n",
      "        for num in range(2, int(x)+1): \n",
      "            if y % num == 0:\n",
      "                print(y, 'has factor', num)\n",
      "                break        \n",
      "        else:\n",
      "            print(y, 'is prime')\n",
      "    elif y == 1 or y == 0:\n",
      "        print(y, 'is not prime')\n",
      "    else:\n",
      "        print \"you passed a neg num\"\n",
      "        \n",
      "prime_even(-13)\n",
      "prime_even(1)\n",
      "prime_even(15)\n",
      "prime_even(15.0)"
     ],
     "language": "python",
     "metadata": {},
     "outputs": [
      {
       "output_type": "stream",
       "stream": "stdout",
       "text": [
        "you passed a neg num\n",
        "(1, 'is not prime')\n",
        "(15, 'has factor', 3)\n",
        "(15.0, 'has factor', 3)\n"
       ]
      }
     ],
     "prompt_number": 66
    },
    {
     "cell_type": "code",
     "collapsed": false,
     "input": [
      "# 9\n",
      "import math\n",
      "list1 = [2, 4, 9, 16, 25]\n",
      "newlist = []\n",
      "for num in list1:\n",
      "    newlist.append(math.sqrt(num))\n",
      "print newlist\n",
      "\n",
      "newlist = []\n",
      "def sqrt(n):\n",
      "    return math.sqrt(n)\n",
      "newlist = map(sqrt, list1)\n",
      "print newlist\n",
      "\n",
      "print [ math.sqrt(n) for n in list1]\n",
      "    \n"
     ],
     "language": "python",
     "metadata": {},
     "outputs": [
      {
       "output_type": "stream",
       "stream": "stdout",
       "text": [
        "[1.4142135623730951, 2.0, 3.0, 4.0, 5.0]\n",
        "[1.4142135623730951, 2.0, 3.0, 4.0, 5.0]\n",
        "[1.4142135623730951, 2.0, 3.0, 4.0, 5.0]\n"
       ]
      }
     ],
     "prompt_number": 53
    },
    {
     "cell_type": "code",
     "collapsed": false,
     "input": [
      "#10\n",
      "import time, sys\n",
      "reps = 1000\n",
      "repslist = range(reps)\n",
      "def timer(func, *pargs, **kargs):\n",
      "    start = time.clock()\n",
      "    for i in repslist:\n",
      "        ret = func(*pargs, **kargs)\n",
      "    elapsed = time.clock() - start\n",
      "    return (elapsed, ret)\n",
      "def mathfunc():\n",
      "    return [math.sqrt(n) for n in repslist]\n",
      "def forloop():\n",
      "    return [ n ** 0.5 for n in repslist]\n",
      "def power():\n",
      "    return [ pow(n, 0.5) for n in repslist]\n",
      "print(sys.version)\n",
      "for test in (mathfunc, forloop, power):\n",
      "    elapsed, result = timer(test)\n",
      "    print(\"%s, %f, => [%f, ... %f]\") % (test.__name__, elapsed, result[0], result[-1])\n",
      "        "
     ],
     "language": "python",
     "metadata": {},
     "outputs": [
      {
       "output_type": "stream",
       "stream": "stdout",
       "text": [
        "2.7.6 (default, Jun 22 2015, 17:58:13) \n",
        "[GCC 4.8.2]\n",
        "mathfunc, 0.111147, => [0.000000, ... 31.606961]"
       ]
      },
      {
       "output_type": "stream",
       "stream": "stdout",
       "text": [
        "\n",
        "forloop, 0.135713, => [0.000000, ... 31.606961]"
       ]
      },
      {
       "output_type": "stream",
       "stream": "stdout",
       "text": [
        "\n",
        "power, 0.176045, => [0.000000, ... 31.606961]"
       ]
      },
      {
       "output_type": "stream",
       "stream": "stdout",
       "text": [
        "\n"
       ]
      }
     ],
     "prompt_number": 55
    },
    {
     "cell_type": "code",
     "collapsed": false,
     "input": [
      "\"\"\"\n",
      "timer(spam, 1, 2, a=3, b=4, _reps=1000) calls and times spam(1, 2, a=3)\n",
      "_reps times, and returns total time for all runs, with final result;\n",
      "best(spam, 1, 2, a=3, b=4, _reps=50) runs best-of-N timer to filter out\n",
      "any system load variation, and returns best time among _reps tests\n",
      "\"\"\"\n",
      "import time, sys\n",
      "if sys.platform[:3] == 'win':\n",
      "    timefunc = time.clock\n",
      "else:\n",
      "    timefunc = time.time # Use time.clock on Windows\n",
      "def trace(*args): pass # Or: print args\n",
      "def timer(func, *pargs, **kargs):\n",
      "    _reps = kargs.pop('_reps', 1000)\n",
      "    trace(func, pargs, kargs, _reps)\n",
      "    repslist = range(_reps)\n",
      "    start = timefunc()\n",
      "    for i in repslist:\n",
      "        ret = func(*pargs, **kargs)\n",
      "    elapsed = timefunc() - start\n",
      "    return (elapsed, ret)\n",
      "# Better resolution on some Unix platforms\n",
      "# Passed-in or default reps\n",
      "# Hoist range out for 2.6 lists\n",
      "def best(func, *pargs, **kargs):\n",
      "    _reps = kargs.pop('_reps', 50)\n",
      "    best = 2 ** 32\n",
      "    for i in range(_reps):\n",
      "        (time, ret) = timer(func, *pargs, _reps=1, **kargs)\n",
      "    if time < best: best = time\n",
      "    return (best, ret)\n",
      "\n",
      "def mathfunc():\n",
      "    return [math.sqrt(n) for n in repslist]\n",
      "def forloop():\n",
      "    return [ n ** 0.5 for n in repslist]\n",
      "def power():\n",
      "    return [ pow(n, 0.5) for n in repslist]\n",
      "print(sys.version)\n",
      "for tester in (timer, best):\n",
      "    print(\"%s\") % (tester.__name__)\n",
      "    for test in (mathfunc, forloop, power):\n",
      "        elapsed, result = tester(test)\n",
      "        print(\"%s, %f, => [%f, ... %f]\") % (test.__name__, elapsed, result[0], result[-1])"
     ],
     "language": "python",
     "metadata": {},
     "outputs": [
      {
       "output_type": "stream",
       "stream": "stdout",
       "text": [
        "2.7.6 (default, Jun 22 2015, 17:58:13) \n",
        "[GCC 4.8.2]\n",
        "timer\n",
        "mathfunc, 0.122613, => [0.000000, ... 31.606961]"
       ]
      },
      {
       "output_type": "stream",
       "stream": "stdout",
       "text": [
        "\n",
        "forloop, 0.140004, => [0.000000, ... 31.606961]"
       ]
      },
      {
       "output_type": "stream",
       "stream": "stdout",
       "text": [
        "\n",
        "power, 0.192557, => [0.000000, ... 31.606961]"
       ]
      },
      {
       "output_type": "stream",
       "stream": "stdout",
       "text": [
        "\n",
        "best\n",
        "mathfunc, 0.000076, => [0.000000, ... 31.606961]\n",
        "forloop, 0.000119, => [0.000000, ... 31.606961]\n",
        "power, 0.000202, => [0.000000, ... 31.606961]\n"
       ]
      }
     ],
     "prompt_number": 59
    },
    {
     "cell_type": "code",
     "collapsed": false,
     "input": [
      "# 1\n",
      "class Adder():\n",
      "    def add(self, y):\n",
      "        print \"Not implemented\"\n",
      "    def __init__(self, start=[]):\n",
      "        self.data = start\n",
      "    def __add__(self, other):\n",
      "        self.add(other)\n",
      "class ListAdder(Adder):\n",
      "    def add(self, y):\n",
      "        return self.data + y\n",
      "class DictAdder(Adder):\n",
      "    def add(self, x, y):\n",
      "        z = x\n",
      "        for k in y:\n",
      "            if k not in z:\n",
      "                z[k] = y[k]\n",
      "        return z\n",
      "a = Adder()\n",
      "b = ListAdder()\n",
      "c = DictAdder()\n",
      "#a.add(10, 15)\n",
      "#print b.add([1, 2], [4, 5])\n",
      "#print c.add({0:\"hai\"}, {1:\"hello\"})\n",
      "#x = Adder([1])\n",
      "#x + [2]\n",
      "#x = ListAdder([1])\n",
      "#x + [2]\n",
      "x = ListAdder([1, 2, 3])\n",
      "y = x + [4, 5, 6]\n",
      "print y"
     ],
     "language": "python",
     "metadata": {},
     "outputs": [
      {
       "output_type": "stream",
       "stream": "stdout",
       "text": [
        "None\n"
       ]
      }
     ],
     "prompt_number": 20
    },
    {
     "cell_type": "code",
     "collapsed": false,
     "input": [
      "#2\n",
      "class MyList:\n",
      "    def __init__(self, start):\n",
      "        self.wrapped = [];\n",
      "        for x in start: self.wrapped.append(x)\n",
      "    def __add__(self, other):\n",
      "        return MyList(self.wrapped + other)\n",
      "    def __mul__(self, time):\n",
      "        return MyList(self.wrapped * time)\n",
      "    def __getitem__(self, offset):\n",
      "        return self.wrapped[offset]\n",
      "    def __len__(self):\n",
      "        return len(self.wrapped)\n",
      "    def __getslice__(self, low, high):\n",
      "        #return MyList(self.wrapped[low:high])\n",
      "        return self.wrapped[low:high]\n",
      "    def append(self, node):\n",
      "        self.wrapped.append(node)\n",
      "    def __getattr__(self, name):\n",
      "        return getattr(self.wrapped, name)\n",
      "    def __repr__(self):\n",
      "        return repr(self.wrapped)\n",
      "class MyListSub(MyList):\n",
      "    calls = 0\n",
      "    def __init__(self, start):\n",
      "        self.adds = 0\n",
      "        MyList.__init__(self, start)\n",
      "    def __add__(self, other):\n",
      "        MyListSub.calls += 1\n",
      "        self.adds += 1\n",
      "        return MyList.__add__(self, other)\n",
      "    def stats(self):\n",
      "        return self.calls, self.adds\n",
      "a = MyListSub('ravi')\n",
      "b = MyListSub('chand')\n",
      "print a[2]\n",
      "print a[1:]\n",
      "print a + ['eggs']\n",
      "print a + ['toast']\n",
      "print b + ['bar']\n",
      "print a.stats()\n",
      "x = MyList('spam')\n",
      "print x\n",
      "print x[2]\n",
      "print x[:1]\n",
      "print x + ['eggs']\n",
      "print x * 3\n",
      "x.append('a')\n",
      "x.sort()\n",
      "for c in x: print c\n"
     ],
     "language": "python",
     "metadata": {},
     "outputs": [
      {
       "output_type": "stream",
       "stream": "stdout",
       "text": [
        "v\n",
        "['a', 'v', 'i']\n",
        "['r', 'a', 'v', 'i', 'eggs']\n",
        "['r', 'a', 'v', 'i', 'toast']\n",
        "['c', 'h', 'a', 'n', 'd', 'bar']\n",
        "(3, 2)\n",
        "['s', 'p', 'a', 'm']\n",
        "a\n",
        "['s']\n",
        "['s', 'p', 'a', 'm', 'eggs']\n",
        "['s', 'p', 'a', 'm', 's', 'p', 'a', 'm', 's', 'p', 'a', 'm']\n",
        "a\n",
        "a\n",
        "m\n",
        "p\n",
        "s\n"
       ]
      }
     ],
     "prompt_number": 28
    },
    {
     "cell_type": "code",
     "collapsed": false,
     "input": [
      "#7\n",
      "class Lunch():\n",
      "    def __init__(self):\n",
      "        self.cust = Customer()\n",
      "        self.emp = Employee()\n",
      "    def order(self, foodName):\n",
      "        self.cust.placeOrder(foodName, self.emp)        \n",
      "    def result(self):\n",
      "        self.cust.printFood()\n",
      "class Customer():\n",
      "    def __init__(self):\n",
      "        self.myfood = None\n",
      "    def placeOrder(self, foodName, emp):\n",
      "        self.myfood = emp.takeOrder(foodName)\n",
      "    def printFood(self):\n",
      "        print \"my food\", self.myfood.name\n",
      "class Employee():\n",
      "    def takeOrder(self, foodName):\n",
      "        return Food(foodName)\n",
      "class Food:\n",
      "    def __init__(self, name):\n",
      "        self.name = name\n",
      "        \n",
      "lunch = Lunch()\n",
      "lunch.order(\"dosa\")\n",
      "lunch.result()"
     ],
     "language": "python",
     "metadata": {},
     "outputs": [
      {
       "output_type": "stream",
       "stream": "stdout",
       "text": [
        " my food dosa\n"
       ]
      }
     ],
     "prompt_number": 4
    },
    {
     "cell_type": "code",
     "collapsed": false,
     "input": [
      "class Animal():\n",
      "    def reply(self):\n",
      "        self.speak()\n",
      "    def speak(self):\n",
      "        print \"spam\"\n",
      "class Mammal(Animal):\n",
      "    def speak(self):       \n",
      "        print \"Mammal\"\n",
      "class Cat(Mammal):\n",
      "    def speak(self):\n",
      "        print \"Meow\"\n",
      "class Dog(Mammal):\n",
      "    def speak(self):\n",
      "        print \"dog\"\n",
      "class Primate(Mammal):\n",
      "    def speak(self):\n",
      "        print \"Hello World\"\n",
      "class Hacker(Primate):\n",
      "    pass\n",
      "    \n",
      "spot = Cat()\n",
      "spot.reply()\n",
      "data = Hacker()\n",
      "data.reply()  "
     ],
     "language": "python",
     "metadata": {},
     "outputs": [
      {
       "output_type": "stream",
       "stream": "stdout",
       "text": [
        "Meow\n",
        "Hello World\n"
       ]
      }
     ],
     "prompt_number": 11
    },
    {
     "cell_type": "code",
     "collapsed": false,
     "input": [
      "class Scene():\n",
      "    def action(self):\n",
      "        self.cust = Customer()\n",
      "        self.clerk = Clerk()\n",
      "        self.parrot = Parrot()    \n",
      "class Customer(Scene):\n",
      "    def __init__(self):\n",
      "        self.line()\n",
      "    def line(self):\n",
      "        print \"customer: that's one ex-bird!\"\n",
      "class Clerk(Scene):\n",
      "    def __init__(self):\n",
      "        self.line()\n",
      "    def line(self):\n",
      "        print \"no it isn't...\"\n",
      "class Parrot(Scene):\n",
      "    def __init__(self):\n",
      "        self.line()\n",
      "    def line(self):\n",
      "        print None\n",
      "        \n",
      "Scene().action()"
     ],
     "language": "python",
     "metadata": {},
     "outputs": [
      {
       "output_type": "stream",
       "stream": "stdout",
       "text": [
        "customer: that's one ex-bird!\n",
        "no it isn't...\n",
        "None\n"
       ]
      }
     ],
     "prompt_number": 16
    },
    {
     "cell_type": "code",
     "collapsed": false,
     "input": [
      "import sys, traceback\n",
      "class MyError(Exception):\n",
      "    pass\n",
      "def oops():\n",
      "    raise MyError(\"spam!\")\n",
      "def call1():\n",
      "    try:\n",
      "        oops()\n",
      "    except IndexError:\n",
      "        print \"error\"\n",
      "    except MyError as data:\n",
      "        print \"caught {0}{1}\".format(MyError, data)\n",
      "#call1()\n",
      "def safe(func, *args):\n",
      "    try:\n",
      "        func(*args)\n",
      "    except:\n",
      "        traceback.print_exc()\n",
      "        print \"Got\", sys.exc_info()[0], sys.exc_info()[1]\n",
      "safe(oops)"
     ],
     "language": "python",
     "metadata": {},
     "outputs": [
      {
       "output_type": "stream",
       "stream": "stdout",
       "text": [
        "Got <class '__main__.MyError'> spam!\n"
       ]
      },
      {
       "output_type": "stream",
       "stream": "stderr",
       "text": [
        "Traceback (most recent call last):\n",
        "  File \"<ipython-input-36-cb6d99387be1>\", line 16, in safe\n",
        "    func(*args)\n",
        "  File \"<ipython-input-36-cb6d99387be1>\", line 5, in oops\n",
        "    raise MyError(\"spam!\")\n",
        "MyError: spam!\n"
       ]
      }
     ],
     "prompt_number": 36
    },
    {
     "cell_type": "code",
     "collapsed": false,
     "input": [
      "dict1 = {1:\"hai\", 2:\"hel\"}\n",
      "if dict1[3]:\n",
      "    print \"ok\"\n",
      "else:\n",
      "    print \"not ok\"    "
     ],
     "language": "python",
     "metadata": {},
     "outputs": [
      {
       "ename": "KeyError",
       "evalue": "3",
       "output_type": "pyerr",
       "traceback": [
        "\u001b[0;31m---------------------------------------------------------------------------\u001b[0m\n\u001b[0;31mKeyError\u001b[0m                                  Traceback (most recent call last)",
        "\u001b[0;32m<ipython-input-2-588f85ebaedb>\u001b[0m in \u001b[0;36m<module>\u001b[0;34m()\u001b[0m\n\u001b[1;32m      1\u001b[0m \u001b[0mdict1\u001b[0m \u001b[0;34m=\u001b[0m \u001b[0;34m{\u001b[0m\u001b[0;36m1\u001b[0m\u001b[0;34m:\u001b[0m\u001b[0;34m\"hai\"\u001b[0m\u001b[0;34m,\u001b[0m \u001b[0;36m2\u001b[0m\u001b[0;34m:\u001b[0m\u001b[0;34m\"hel\"\u001b[0m\u001b[0;34m}\u001b[0m\u001b[0;34m\u001b[0m\u001b[0m\n\u001b[0;32m----> 2\u001b[0;31m \u001b[0;32mif\u001b[0m \u001b[0mdict1\u001b[0m\u001b[0;34m[\u001b[0m\u001b[0;36m3\u001b[0m\u001b[0;34m]\u001b[0m\u001b[0;34m:\u001b[0m\u001b[0;34m\u001b[0m\u001b[0m\n\u001b[0m\u001b[1;32m      3\u001b[0m     \u001b[0;32mprint\u001b[0m \u001b[0;34m\"ok\"\u001b[0m\u001b[0;34m\u001b[0m\u001b[0m\n\u001b[1;32m      4\u001b[0m \u001b[0;32melse\u001b[0m\u001b[0;34m:\u001b[0m\u001b[0;34m\u001b[0m\u001b[0m\n\u001b[1;32m      5\u001b[0m     \u001b[0;32mprint\u001b[0m \u001b[0;34m\"not ok\"\u001b[0m\u001b[0;34m\u001b[0m\u001b[0m\n",
        "\u001b[0;31mKeyError\u001b[0m: 3"
       ]
      }
     ],
     "prompt_number": 2
    },
    {
     "cell_type": "code",
     "collapsed": false,
     "input": [
      "from tkinter import *\n",
      "# Use Tkinter in 2.6\n",
      "import random\n",
      "fontsize = 25\n",
      "colors = ['red', 'green', 'blue', 'yellow', 'orange', 'white', 'cyan', 'purple']\n",
      "def reply(text):\n",
      "    print(text)\n",
      "    popup = Toplevel()\n",
      "    color = random.choice(colors)\n",
      "    Label(popup, text='Popup', bg='black', fg=color).pack()\n",
      "    L.config(fg=color)\n",
      "def timer():\n",
      "    L.config(fg=random.choice(colors))\n",
      "    win.after(250, timer)\n",
      "def grow():\n",
      "    global fontsize\n",
      "    fontsize += 5\n",
      "    L.config(font=('arial', fontsize, 'italic'))\n",
      "    win.after(100, grow)\n",
      "win = Tk()\n",
      "L = Label(win, text='Spam',\n",
      "font=('arial', fontsize, 'italic'), fg='yellow', bg='navy',\n",
      "relief=RAISED)\n",
      "L.pack(side=TOP, expand=YES, fill=BOTH)\n",
      "Button(win, text='press', command=(lambda: reply('red'))).pack(side=BOTTOM,fill=X)\n",
      "Button(win, text='timer', command=timer).pack(side=BOTTOM, fill=X)\n",
      "Button(win, text='grow', command=grow).pack(side=BOTTOM, fill=X)\n",
      "win.mainloop()"
     ],
     "language": "python",
     "metadata": {},
     "outputs": [
      {
       "ename": "ImportError",
       "evalue": "No module named tkinter",
       "output_type": "pyerr",
       "traceback": [
        "\u001b[0;31m---------------------------------------------------------------------------\u001b[0m\n\u001b[0;31mImportError\u001b[0m                               Traceback (most recent call last)",
        "\u001b[0;32m<ipython-input-4-c1a2636bef56>\u001b[0m in \u001b[0;36m<module>\u001b[0;34m()\u001b[0m\n\u001b[0;32m----> 1\u001b[0;31m \u001b[0;32mfrom\u001b[0m \u001b[0mtkinter\u001b[0m \u001b[0;32mimport\u001b[0m \u001b[0;34m*\u001b[0m\u001b[0;34m\u001b[0m\u001b[0m\n\u001b[0m\u001b[1;32m      2\u001b[0m \u001b[0;31m# Use Tkinter in 2.6\u001b[0m\u001b[0;34m\u001b[0m\u001b[0;34m\u001b[0m\u001b[0m\n\u001b[1;32m      3\u001b[0m \u001b[0;32mimport\u001b[0m \u001b[0mrandom\u001b[0m\u001b[0;34m\u001b[0m\u001b[0m\n\u001b[1;32m      4\u001b[0m \u001b[0mfontsize\u001b[0m \u001b[0;34m=\u001b[0m \u001b[0;36m25\u001b[0m\u001b[0;34m\u001b[0m\u001b[0m\n\u001b[1;32m      5\u001b[0m \u001b[0mcolors\u001b[0m \u001b[0;34m=\u001b[0m \u001b[0;34m[\u001b[0m\u001b[0;34m'red'\u001b[0m\u001b[0;34m,\u001b[0m \u001b[0;34m'green'\u001b[0m\u001b[0;34m,\u001b[0m \u001b[0;34m'blue'\u001b[0m\u001b[0;34m,\u001b[0m \u001b[0;34m'yellow'\u001b[0m\u001b[0;34m,\u001b[0m \u001b[0;34m'orange'\u001b[0m\u001b[0;34m,\u001b[0m \u001b[0;34m'white'\u001b[0m\u001b[0;34m,\u001b[0m \u001b[0;34m'cyan'\u001b[0m\u001b[0;34m,\u001b[0m \u001b[0;34m'purple'\u001b[0m\u001b[0;34m]\u001b[0m\u001b[0;34m\u001b[0m\u001b[0m\n",
        "\u001b[0;31mImportError\u001b[0m: No module named tkinter"
       ]
      }
     ],
     "prompt_number": 4
    },
    {
     "cell_type": "code",
     "collapsed": false,
     "input": [
      "#!/usr/bin/python\n",
      "import cgi\n",
      "form = cgi.FieldStorage()\n",
      "# Parse form data\n",
      "print(\"Content-type: text/html\\n\")\n",
      "# hdr plus blank line\n",
      "print(\"<HTML>\")\n",
      "print(\"<title>Reply Page</title>\")\n",
      "# HTML reply page\n",
      "print(\"<BODY>\")\n",
      "if not 'user' in form:\n",
      "    print(\"<h1>Who are you?</h1>\")\n",
      "else:\n",
      "    print(\"<h1>Hello <i>%s</i>!</h1>\" % cgi.escape(form['user'].value))\n",
      "    print(\"</BODY></HTML>\")"
     ],
     "language": "python",
     "metadata": {},
     "outputs": [
      {
       "output_type": "stream",
       "stream": "stdout",
       "text": [
        "Content-type: text/html\n",
        "\n",
        "<HTML>\n",
        "<title>Reply Page</title>\n",
        "<BODY>\n",
        "<h1>Who are you?</h1>\n"
       ]
      }
     ],
     "prompt_number": 2
    },
    {
     "cell_type": "code",
     "collapsed": false,
     "input": [
      "import mod_python"
     ],
     "language": "python",
     "metadata": {},
     "outputs": [
      {
       "ename": "ImportError",
       "evalue": "No module named mod_python",
       "output_type": "pyerr",
       "traceback": [
        "\u001b[0;31m---------------------------------------------------------------------------\u001b[0m\n\u001b[0;31mImportError\u001b[0m                               Traceback (most recent call last)",
        "\u001b[0;32m<ipython-input-5-f83f1c3f417c>\u001b[0m in \u001b[0;36m<module>\u001b[0;34m()\u001b[0m\n\u001b[0;32m----> 1\u001b[0;31m \u001b[0;32mimport\u001b[0m \u001b[0mmod_python\u001b[0m\u001b[0;34m\u001b[0m\u001b[0m\n\u001b[0m",
        "\u001b[0;31mImportError\u001b[0m: No module named mod_python"
       ]
      }
     ],
     "prompt_number": 5
    }
   ],
   "metadata": {}
  }
 ]
}