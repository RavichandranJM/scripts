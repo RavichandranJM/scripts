{
 "metadata": {
  "name": ""
 },
 "nbformat": 3,
 "nbformat_minor": 0,
 "worksheets": [
  {
   "cells": [
    {
     "cell_type": "code",
     "collapsed": false,
     "input": [
      "def max(a, b):\n",
      "    if a > b:\n",
      "        return a\n",
      "    return b\n",
      "print max(5, 6)\n",
      "print max(7.0, -0.1)"
     ],
     "language": "python",
     "metadata": {},
     "outputs": [],
     "prompt_number": "*"
    },
    {
     "cell_type": "code",
     "collapsed": false,
     "input": [
      "def max_of_three(a, b, c):\n",
      "    if a > b and a > c:\n",
      "        return a\n",
      "    elif b > c:\n",
      "        return b\n",
      "    return c\n",
      "print max_of_three(4, 5, 6)\n",
      "print max_of_three(0.4, 1.5, -0.6)\n",
      "print max_of_three(1.4, 56, 66.89)        "
     ],
     "language": "python",
     "metadata": {},
     "outputs": [
      {
       "output_type": "stream",
       "stream": "stdout",
       "text": [
        "6\n",
        "1.5\n",
        "66.89\n"
       ]
      }
     ],
     "prompt_number": 2
    },
    {
     "cell_type": "code",
     "collapsed": false,
     "input": [
      "def length(s):\n",
      "    i = 0\n",
      "    for char in s:\n",
      "        i += 1\n",
      "    return i\n",
      "print length(\"hai\")        "
     ],
     "language": "python",
     "metadata": {},
     "outputs": [
      {
       "output_type": "stream",
       "stream": "stdout",
       "text": [
        "3\n"
       ]
      }
     ],
     "prompt_number": 4
    },
    {
     "cell_type": "code",
     "collapsed": false,
     "input": [
      "def vowel(s):\n",
      "    if s in ['a', 'e', 'i', 'o', 'u']:\n",
      "        return True\n",
      "    return False\n",
      "print vowel('c')\n",
      "print vowel('i')"
     ],
     "language": "python",
     "metadata": {},
     "outputs": [
      {
       "output_type": "stream",
       "stream": "stdout",
       "text": [
        "False\n",
        "True\n"
       ]
      }
     ],
     "prompt_number": 5
    },
    {
     "cell_type": "code",
     "collapsed": false,
     "input": [
      "def vowel(s):\n",
      "    if s in ['a', 'e', 'i', 'o', 'u']:\n",
      "        return True\n",
      "    return False\n",
      "def translate(s):\n",
      "    str = \"\"\n",
      "    for ch in s:\n",
      "        if not vowel(ch):\n",
      "            str += ch + \"o\" + ch\n",
      "        else:\n",
      "            str += ch\n",
      "    return str\n",
      "print translate(\"hai\")"
     ],
     "language": "python",
     "metadata": {},
     "outputs": [
      {
       "output_type": "stream",
       "stream": "stdout",
       "text": [
        "hohai\n"
       ]
      }
     ],
     "prompt_number": 7
    },
    {
     "cell_type": "code",
     "collapsed": false,
     "input": [
      "def tot(l1):\n",
      "    total = l1[0]\n",
      "    for num in l1[1:]:\n",
      "        total += num\n",
      "    return total\n",
      "def mul1(l2):\n",
      "    mul = l2[0]\n",
      "    for num in l2[1:]:\n",
      "        mul = mul * num\n",
      "    return mul\n",
      "print tot([1, 2, 3, 4])\n",
      "print mul1([0, 45])\n",
      "print mul1([1, 33])"
     ],
     "language": "python",
     "metadata": {},
     "outputs": [
      {
       "output_type": "stream",
       "stream": "stdout",
       "text": [
        "10\n",
        "0\n",
        "33\n"
       ]
      }
     ],
     "prompt_number": 13
    },
    {
     "cell_type": "code",
     "collapsed": false,
     "input": [
      "def reverse(s):\n",
      "    s1 = \"\"\n",
      "    for ch in s[-1::-1]:\n",
      "        s1 = s1 + ch\n",
      "    return s1\n",
      "print reverse(\"hai how are you\")\n",
      "    "
     ],
     "language": "python",
     "metadata": {},
     "outputs": [],
     "prompt_number": "*"
    },
    {
     "cell_type": "code",
     "collapsed": false,
     "input": [
      "def is_palindrome(s):\n",
      "    st = -1;end = 0\n",
      "    mid = len(s)/2\n",
      "    for item in range(0, len(s)):\n",
      "        st += 1\n",
      "        end -= 1\n",
      "        if s[st] == s[end]:\n",
      "            continue\n",
      "        else:\n",
      "            return False                        \n",
      "    return True\n",
      "print is_palindrome(\"maam\")"
     ],
     "language": "python",
     "metadata": {},
     "outputs": [
      {
       "output_type": "stream",
       "stream": "stdout",
       "text": [
        "True\n"
       ]
      }
     ],
     "prompt_number": 13
    },
    {
     "cell_type": "code",
     "collapsed": false,
     "input": [
      "def is_member(a, l):\n",
      "    for item in l:\n",
      "        if a == item:\n",
      "            return True\n",
      "    return False\n",
      "print is_member(9, [5, 6, 7])\n",
      "print is_member(\"hi\", [\"hai\", \"hh\"])"
     ],
     "language": "python",
     "metadata": {},
     "outputs": [
      {
       "output_type": "stream",
       "stream": "stdout",
       "text": [
        "False\n",
        "False\n"
       ]
      }
     ],
     "prompt_number": 16
    },
    {
     "cell_type": "code",
     "collapsed": false,
     "input": [
      "def func1(li1, li2):\n",
      "    for l1 in li1:\n",
      "        for l2 in li2:\n",
      "            if l1 == l2:\n",
      "                return True\n",
      "    return False\n",
      "print func1([1.1,2.2,3.3], [2,3,4])"
     ],
     "language": "python",
     "metadata": {},
     "outputs": [
      {
       "output_type": "stream",
       "stream": "stdout",
       "text": [
        "False\n"
       ]
      }
     ],
     "prompt_number": 19
    },
    {
     "cell_type": "code",
     "collapsed": false,
     "input": [
      "def generate_n_chars(n, c):\n",
      "    ret = \"\"\n",
      "    for n in range(0, n):\n",
      "        ret = ret + c\n",
      "    return ret\n",
      "print generate_n_chars(1, 'v')    "
     ],
     "language": "python",
     "metadata": {},
     "outputs": [
      {
       "output_type": "stream",
       "stream": "stdout",
       "text": [
        "v\n"
       ]
      }
     ],
     "prompt_number": 22
    },
    {
     "cell_type": "code",
     "collapsed": false,
     "input": [
      "def histogram(l1):\n",
      "    s1 = \"\"\n",
      "    for num in l1:\n",
      "        s1 = s1 + '*' * num + \"\\n\"\n",
      "    return s1\n",
      "print histogram([5, 2, 4])\n",
      "        "
     ],
     "language": "python",
     "metadata": {},
     "outputs": [
      {
       "output_type": "stream",
       "stream": "stdout",
       "text": [
        "*****\n",
        "**\n",
        "****\n",
        "\n"
       ]
      }
     ],
     "prompt_number": 25
    },
    {
     "cell_type": "code",
     "collapsed": false,
     "input": [
      "def max_in_list(li):\n",
      "    max_num = li[0]\n",
      "    for num in li[1:]:\n",
      "        if max_num < num:\n",
      "            max_num = num\n",
      "    return max_num\n",
      "print max_in_list([2.3, 36, 4])   \n",
      "    "
     ],
     "language": "python",
     "metadata": {},
     "outputs": [
      {
       "output_type": "stream",
       "stream": "stdout",
       "text": [
        "36\n"
       ]
      }
     ],
     "prompt_number": 32
    },
    {
     "cell_type": "code",
     "collapsed": false,
     "input": [
      "dict1 = {\"hai\":3, \"hello\":5}"
     ],
     "language": "python",
     "metadata": {},
     "outputs": [],
     "prompt_number": 33
    },
    {
     "cell_type": "code",
     "collapsed": false,
     "input": [
      "def find_longest_word(li1):\n",
      "    max_num = len(li1[0])\n",
      "    max_len = li1[0]\n",
      "    for s in li1[1:]:\n",
      "        if max_num < len(s):\n",
      "            max_num = len(s)\n",
      "            max_len = s\n",
      "    return max_len\n",
      "print find_longest_word([\"hai\", \"hel000\", \"good\"])\n",
      "        "
     ],
     "language": "python",
     "metadata": {},
     "outputs": [
      {
       "output_type": "stream",
       "stream": "stdout",
       "text": [
        "hel000\n"
       ]
      }
     ],
     "prompt_number": 35
    },
    {
     "cell_type": "code",
     "collapsed": false,
     "input": [
      "def filter_long_word(li1, n):\n",
      "    ret = []\n",
      "    for s in li1:\n",
      "        if len(s) > n:\n",
      "            ret.append(s)\n",
      "    return ret\n",
      "print filter_long_word([\"hai\", \"hello world\", \"test\"], 5)"
     ],
     "language": "python",
     "metadata": {},
     "outputs": [
      {
       "output_type": "stream",
       "stream": "stdout",
       "text": [
        "['hello world']\n"
       ]
      }
     ],
     "prompt_number": 37
    },
    {
     "cell_type": "code",
     "collapsed": false,
     "input": [
      "def is_palindrome(s):\n",
      "    ns = ''.join(filter(str.isalpha, s))\n",
      "    ns = ns.lower()\n",
      "    revs = ''.join(reversed(ns))\n",
      "    print ns\n",
      "    print revs\n",
      "    if ns == revs:\n",
      "        return True\n",
      "    return False\n",
      "print is_palindrome(\"Dammit, I'm mad!\")"
     ],
     "language": "python",
     "metadata": {},
     "outputs": [
      {
       "output_type": "stream",
       "stream": "stdout",
       "text": [
        "dammitimmad\n",
        "dammitimmad\n",
        "True\n"
       ]
      }
     ],
     "prompt_number": 56
    },
    {
     "cell_type": "code",
     "collapsed": false,
     "input": [
      "def pangram(s):\n",
      "    alphas = \"abcdefghijklmnopqrstuvwxyz\"\n",
      "    s = s.lower()\n",
      "    return not set(alphas) - set(s)\n",
      "print pangram(\"The quick brown fox jumps over the lazy dog\")"
     ],
     "language": "python",
     "metadata": {},
     "outputs": [
      {
       "output_type": "stream",
       "stream": "stdout",
       "text": [
        "True\n"
       ]
      }
     ],
     "prompt_number": 66
    },
    {
     "cell_type": "code",
     "collapsed": false,
     "input": [
      "def beer():\n",
      "    ret = \"\"\n",
      "    start = 2\n",
      "    while start != 0:\n",
      "        temp = start -1\n",
      "        ret += str(start)  + ''' bottles of beer on the wall, ''' + str(start) + '''bottles of beer.\n",
      "                Take one down, pass it around, ''' + str(temp) + '''bottles of beer on the wall.\\n'''\n",
      "        start -= 1\n",
      "    return ret\n",
      "print beer()                "
     ],
     "language": "python",
     "metadata": {},
     "outputs": [
      {
       "output_type": "stream",
       "stream": "stdout",
       "text": [
        "2 bottles of beer on the wall, 2bottles of beer.\n",
        "                Take one down, pass it around, 1bottles of beer on the wall.\n",
        "1 bottles of beer on the wall, 1bottles of beer.\n",
        "                Take one down, pass it around, 0bottles of beer on the wall.\n",
        "\n"
       ]
      }
     ],
     "prompt_number": 72
    },
    {
     "cell_type": "code",
     "collapsed": false,
     "input": [
      "def translate(s):\n",
      "    dict = {\"merry\":\"god\", \"christmas\":\"jul\", \"and\":\"och\", \"happy\":\"gott\", \"new\":\"nytt\", \"year\":\"\u00e5r\"}\n",
      "    return dict[s]\n",
      "print translate(\"merry\")"
     ],
     "language": "python",
     "metadata": {},
     "outputs": [
      {
       "output_type": "stream",
       "stream": "stdout",
       "text": [
        "god\n"
       ]
      }
     ],
     "prompt_number": 74
    },
    {
     "cell_type": "code",
     "collapsed": false,
     "input": [
      "def char_freq(s):\n",
      "    ret = {}\n",
      "    for c in s:\n",
      "        if c not in ret.keys():\n",
      "            ret[c] = 1\n",
      "        else:\n",
      "            ret[c] += 1\n",
      "    return ret\n",
      "print char_freq(\"abbabcbdbabdbdbabababcbcbab\")\n",
      "        "
     ],
     "language": "python",
     "metadata": {},
     "outputs": [
      {
       "output_type": "stream",
       "stream": "stdout",
       "text": [
        "{'a': 7, 'c': 3, 'b': 14, 'd': 3}\n"
       ]
      }
     ],
     "prompt_number": 76
    },
    {
     "cell_type": "code",
     "collapsed": false,
     "input": [
      "key = {'a':'n', 'b':'o', 'c':'p', 'd':'q', 'e':'r', 'f':'s', 'g':'t', 'h':'u', \n",
      "       'i':'v', 'j':'w', 'k':'x', 'l':'y', 'm':'z', 'n':'a', 'o':'b', 'p':'c', \n",
      "       'q':'d', 'r':'e', 's':'f', 't':'g', 'u':'h', 'v':'i', 'w':'j', 'x':'k',\n",
      "       'y':'l', 'z':'m', 'A':'N', 'B':'O', 'C':'P', 'D':'Q', 'E':'R', 'F':'S', \n",
      "       'G':'T', 'H':'U', 'I':'V', 'J':'W', 'K':'X', 'L':'Y', 'M':'Z', 'N':'A', \n",
      "       'O':'B', 'P':'C', 'Q':'D', 'R':'E', 'S':'F', 'T':'G', 'U':'H', 'V':'I', \n",
      "       'W':'J', 'X':'K', 'Y':'L', 'Z':'M'}\n",
      "def derot13(s):\n",
      "    ret = \"\"\n",
      "    for c in s:\n",
      "        if key.has_key(c):\n",
      "            ret += key[c]\n",
      "        else:\n",
      "            ret += c\n",
      "    return ret\n",
      "print derot13(\"Pnrfne pvcure? V zhpu cersre Pnrfne fnynq!\")\n",
      "print derot13(\"Caesar cipher? I much prefer Caesar salad!\")"
     ],
     "language": "python",
     "metadata": {},
     "outputs": [
      {
       "output_type": "stream",
       "stream": "stdout",
       "text": [
        "Caesar cipher? I much prefer Caesar salad!\n",
        "Pnrfne pvcure? V zhpu cersre Pnrfne fnynq!\n"
       ]
      }
     ],
     "prompt_number": 80
    },
    {
     "cell_type": "code",
     "collapsed": false,
     "input": [
      "import re\n",
      "def correct(s):\n",
      "    s = re.sub(\" +\", \" \", s)\n",
      "    s = re.sub(\"\\.\", \". \", s)\n",
      "    return s\n",
      "print correct(\"This   is  very funny  and    cool.Indeed!\")"
     ],
     "language": "python",
     "metadata": {},
     "outputs": [
      {
       "output_type": "stream",
       "stream": "stdout",
       "text": [
        "This is very funny and cool. Indeed!\n"
       ]
      }
     ],
     "prompt_number": 84
    },
    {
     "cell_type": "code",
     "collapsed": false,
     "input": [
      "def make_3sg_form(inp):\n",
      "    ret = []\n",
      "    for item in inp:\n",
      "        if item.endswith(\"y\"):\n",
      "            ret.append(item[:-1] + \"ies\")\n",
      "        elif item.endswith((\"o\", \"ch\", \"s\", \"sh\", \"x\", \"z\")):\n",
      "            ret.append(item + \"es\")\n",
      "        else:\n",
      "            ret.append(item + \"s\")\n",
      "    return ret\n",
      "print make_3sg_form([\"try\", \"brush\", \"run\", \"fix\"])"
     ],
     "language": "python",
     "metadata": {},
     "outputs": [
      {
       "output_type": "stream",
       "stream": "stdout",
       "text": [
        "['tries', 'brushes', 'runs', 'fixes']\n"
       ]
      }
     ],
     "prompt_number": 93
    },
    {
     "cell_type": "code",
     "collapsed": false,
     "input": [
      "def make_ing_form(ilist):\n",
      "    rlist = []\n",
      "    for v in ilist:\n",
      "        if v.endswith(\"ie\"):\n",
      "            rlist.append(v[:-2] + \"ying\")\n",
      "        elif v.endswith(\"e\"):\n",
      "            rlist.append(v[:-1] + \"ing\")\n",
      "        elif v[-2] in ['aeiou']:\n",
      "            rlist.append(v + v[-1] + \"ing\")\n",
      "        else:\n",
      "            rlist.append(v + \"ing\")\n",
      "    return rlist\n",
      "print make_ing_form([\"lie\", \"see\", \"move\", \"hug\"])"
     ],
     "language": "python",
     "metadata": {},
     "outputs": [
      {
       "output_type": "stream",
       "stream": "stdout",
       "text": [
        "['lying', 'seing', 'moving', 'huging']\n"
       ]
      }
     ],
     "prompt_number": 96
    },
    {
     "cell_type": "code",
     "collapsed": false,
     "input": [
      "def max_in_list(ilist):\n",
      "    return reduce(max, ilist)\n",
      "print max_in_list([15, 2.0, 3.3])"
     ],
     "language": "python",
     "metadata": {},
     "outputs": [
      {
       "output_type": "stream",
       "stream": "stdout",
       "text": [
        "15\n"
       ]
      }
     ],
     "prompt_number": 98
    },
    {
     "cell_type": "code",
     "collapsed": false,
     "input": [
      "def for_loop(ilist):\n",
      "    ret = []\n",
      "    for item in ilist:\n",
      "        ret.append(len(item))\n",
      "    return ret\n",
      "def map_func(ilist):\n",
      "    return map(len, ilist)\n",
      "def list_comp(ilist):\n",
      "    return [len(s) for s in ilist]\n",
      "print for_loop([\"hai\", \"helo\", \"are\"])\n",
      "print map_func([\"hai\", \"helo\", \"are\"])\n",
      "print list_comp([\"hai\", \"helo\", \"are\"])   "
     ],
     "language": "python",
     "metadata": {},
     "outputs": [
      {
       "output_type": "stream",
       "stream": "stdout",
       "text": [
        "[3, 4, 3]\n",
        "[3, 4, 3]\n",
        "[3, 4, 3]\n"
       ]
      }
     ],
     "prompt_number": 102
    },
    {
     "cell_type": "code",
     "collapsed": false,
     "input": [
      "def find_longest_word(ilist):\n",
      "    return max(ilist, key = len)\n",
      "print find_longest_word([\"hai\", \"hello\", \"test\"])"
     ],
     "language": "python",
     "metadata": {},
     "outputs": [
      {
       "output_type": "stream",
       "stream": "stdout",
       "text": [
        "hello\n"
       ]
      }
     ],
     "prompt_number": 104
    },
    {
     "cell_type": "code",
     "collapsed": false,
     "input": [
      "def long_word(word):\n",
      "    if len(word) > 4:\n",
      "        return True\n",
      "    return False\n",
      "def filter_long_words(ilist):\n",
      "    return filter(long_word, ilist)\n",
      "print filter_long_words([\"hai\", \"hello\", \"test\"])"
     ],
     "language": "python",
     "metadata": {},
     "outputs": [
      {
       "output_type": "stream",
       "stream": "stdout",
       "text": [
        "['hello']\n"
       ]
      }
     ],
     "prompt_number": 107
    },
    {
     "cell_type": "code",
     "collapsed": false,
     "input": [
      "dict1 = {\"merry\":\"god\", \"christmas\":\"jul\", \"and\":\"och\", \"happy\":\"gott\", \"new\":\"nytt\", \"year\":\"\u00e5r\"}\n",
      "def translate(word):\n",
      "    return dict1[word]\n",
      "print map(translate, [\"merry\", \"christmas\", \"and\", \"happy\", \"new\", \"year\"])\n",
      "    "
     ],
     "language": "python",
     "metadata": {},
     "outputs": [
      {
       "output_type": "stream",
       "stream": "stdout",
       "text": [
        "['god', 'jul', 'och', 'gott', 'nytt', '\\xc3\\xa5r']\n"
       ]
      }
     ],
     "prompt_number": 108
    },
    {
     "cell_type": "code",
     "collapsed": false,
     "input": [
      "import re\n",
      "def is_palindrome(inp):\n",
      "    inp = re.sub(\"[^a-zA-Z]\", '', inp)\n",
      "    if inp.lower() == inp[::-1].lower():\n",
      "        return True\n",
      "    return False\n",
      "# file: \"/home/ravi/python/ling.gu.se/palindromes.txt\"\n",
      "f = input(\"file:\")\n",
      "with open(f) as fr:\n",
      "    for row in fr:\n",
      "        if is_palindrome(row):\n",
      "            print row.strip('\\r\\n')            "
     ],
     "language": "python",
     "metadata": {},
     "outputs": [
      {
       "name": "stdout",
       "output_type": "stream",
       "stream": "stdout",
       "text": [
        "file:\"/home/ravi/python/ling.gu.se/palindromes.txt\"\n"
       ]
      },
      {
       "output_type": "stream",
       "stream": "stdout",
       "text": [
        "Rise to vote sir\n",
        "Malayalam\n"
       ]
      }
     ],
     "prompt_number": 5
    },
    {
     "cell_type": "code",
     "collapsed": false,
     "input": [
      "import re\n",
      "# file: \"/home/ravi/python/ling.gu.se/palindromes.txt\"\n",
      "f = input(\"file:\")\n",
      "words = []\n",
      "with open(f) as fr:\n",
      "    for row in fr:\n",
      "        row = row.strip('\\r\\n')\n",
      "        row = re.sub(\"[^a-zA-Z]\", '', row)\n",
      "        row = row.lower()\n",
      "        words.append(row)\n",
      "for w in words:\n",
      "    if w[::-1].lower() in words:\n",
      "        if w != w[::-1]:\n",
      "             print w + \" \" + w[::-1]"
     ],
     "language": "python",
     "metadata": {},
     "outputs": [
      {
       "name": "stdout",
       "output_type": "stream",
       "stream": "stdout",
       "text": [
        "file:\"/home/ravi/python/ling.gu.se/palindromes.txt\"\n"
       ]
      },
      {
       "output_type": "stream",
       "stream": "stdout",
       "text": [
        "stressed desserts\n",
        "desserts stressed\n",
        "semordnilap palindromes\n",
        "palindromes semordnilap\n"
       ]
      }
     ],
     "prompt_number": 8
    },
    {
     "cell_type": "code",
     "collapsed": false,
     "input": [
      "import collections\n",
      "h = input(\"/home/ravi/python/reference.txt\")\n",
      "reads = \"\"\n",
      "with open(h) as f:\n",
      "    for row in f:\n",
      "        reads = reads + row.strip('\\r\\n')\n",
      "print collections.Counter(reads)        "
     ],
     "language": "python",
     "metadata": {},
     "outputs": [
      {
       "name": "stdout",
       "output_type": "stream",
       "stream": "stdout",
       "text": [
        "/home/ravi/python/reference.txt\"/home/ravi/python/reference.txt\"\n"
       ]
      },
      {
       "output_type": "stream",
       "stream": "stdout",
       "text": [
        "Counter({' ': 100, 't': 66, 'i': 55, 's': 49, 'e': 42, 'o': 34, 'l': 33, 'n': 30, 'p': 28, 'h': 26, 'm': 25, 'a': 24, \"'\": 22, 'r': 22, 'y': 16, 'c': 11, '#': 9, 'f': 9, ',': 8, 'b': 8, 'd': 6, 'g': 6, 'u': 6, '[': 4, ']': 4, '/': 3, '=': 3, 'j': 3, 'w': 3, '!': 2, '0': 2, ':': 2, 'I': 2, 'k': 2, 'v': 2, '.': 1, 'A': 1, 'C': 1, 'F': 1, 'S': 1})\n"
       ]
      }
     ],
     "prompt_number": 1
    },
    {
     "cell_type": "code",
     "collapsed": false,
     "input": [
      "#35\n",
      "from os import system\n",
      "from time import sleep\n",
      "ICAO_dict = {'a':'alfa', 'b':'bravo', 'c':'charlie', 'd':'delta', 'e':'echo', 'f':'foxtrot',\n",
      "     'g':'golf', 'h':'hotel', 'i':'india', 'j':'juliett', 'k':'kilo', 'l':'lima',\n",
      "     'm':'mike', 'n':'november', 'o':'oscar', 'p':'papa', 'q':'quebec', 'r':'romeo',\n",
      "     's':'sierra', 't':'tango', 'u':'uniform', 'v':'victor', 'w':'whiskey', \n",
      "     'x':'x-ray', 'y':'yankee', 'z':'zulu'}\n",
      "delimiters = '.,;:-?!'\n",
      "def speak_ICAO(text, ICAO_word_pause, word_pause):\n",
      "    for count, letter in enumerate(text.lower()):\n",
      "        if letter in ICAO_dict.keys():\n",
      "            print 'say ' + ICAO_dict[letter]\n",
      "            if count is not (len(text)-1):\n",
      "                sleep(ICAO_word_pause)\n",
      "            else:\n",
      "                break\n",
      "        elif letter in \" \" + delimiters:\n",
      "            if not text[count - 1].lower() in \" \" + delimiters:\n",
      "                sleep(word_pause)\n",
      "            else:\n",
      "                continue\n",
      "        elif letter in string.digits:\n",
      "            continue\n",
      "speak_ICAO('abcd', 1, 1)"
     ],
     "language": "python",
     "metadata": {},
     "outputs": [
      {
       "output_type": "stream",
       "stream": "stdout",
       "text": [
        "say alfa\n",
        "say bravo"
       ]
      },
      {
       "output_type": "stream",
       "stream": "stdout",
       "text": [
        "\n",
        "say charlie"
       ]
      },
      {
       "output_type": "stream",
       "stream": "stdout",
       "text": [
        "\n",
        "say delta"
       ]
      },
      {
       "output_type": "stream",
       "stream": "stdout",
       "text": [
        "\n"
       ]
      }
     ],
     "prompt_number": 23
    },
    {
     "cell_type": "code",
     "collapsed": false,
     "input": [
      "# 36\n",
      "import re\n",
      "def hapax(filepath):\n",
      "    with open(filepath) as f:\n",
      "        words = re.findall('\\w+', f.read().lower())\n",
      "        freqs = {key:0 for key in words}\n",
      "        for w in words:\n",
      "            freqs[w] += 1\n",
      "        print freqs\n",
      "        for f in freqs:\n",
      "            if freqs[f] == 1:\n",
      "                print f\n",
      "hapax(\"./python/while.txt\")"
     ],
     "language": "python",
     "metadata": {},
     "outputs": [
      {
       "output_type": "stream",
       "stream": "stdout",
       "text": [
        "{'elif': 1, 'false': 1, 'int': 1, 'is': 3, 'number': 3, 'an': 1, 'guessed': 1, 'done': 1, 'want': 1, 'causes': 1, 'if': 1, 'guess': 3, '23': 1, 'py': 1, 'filename': 1, 'to': 2, 'lower': 1, 'usr': 1, 'print': 5, 'you': 2, 'over': 1, 'higher': 1, 'bin': 1, 'do': 2, 'that': 2, 'python': 1, 'stop': 1, 'little': 2, 'here': 1, 'it': 3, 'running': 3, 'integer': 1, 'else': 3, 'true': 1, 'than': 2, 'a': 2, 'congratulations': 1, 'anything': 1, 'this': 1, 'raw_input': 1, 'no': 2, 'while': 4, 'enter': 1, 'the': 2, 'loop': 2}\n",
        "elif\n",
        "false\n",
        "int\n",
        "an\n",
        "guessed\n",
        "done\n",
        "want\n",
        "causes\n",
        "if\n",
        "23\n",
        "py\n",
        "filename\n",
        "lower\n",
        "usr\n",
        "over\n",
        "higher\n",
        "bin\n",
        "python\n",
        "stop\n",
        "here\n",
        "integer\n",
        "true\n",
        "congratulations\n",
        "anything\n",
        "this\n",
        "raw_input\n",
        "enter\n"
       ]
      }
     ],
     "prompt_number": 11
    },
    {
     "cell_type": "code",
     "collapsed": false,
     "input": [
      "# 37\n",
      "r = []\n",
      "def createfile(filepath):\n",
      "    with open(filepath) as f:\n",
      "        count = 1\n",
      "        for row in f.readlines():\n",
      "            r.append(str(count) + \" \" + row)\n",
      "            count += 1\n",
      "    with open(\"./python/newfile.txt\", \"w+\") as fw:\n",
      "        for row in r:\n",
      "            #print type(row)\n",
      "            fw.write(row)\n",
      "    \n",
      "createfile(\"./python/while.txt\")"
     ],
     "language": "python",
     "metadata": {},
     "outputs": [],
     "prompt_number": 21
    },
    {
     "cell_type": "code",
     "collapsed": false,
     "input": [
      "# 38\n",
      "import re\n",
      "def avglen(path):\n",
      "    with open(path) as f:\n",
      "        words = re.findall('\\w+', f.read())\n",
      "        lengths = [ len(word) for word in words ]\n",
      "        print lengths, sum(lengths), len(lengths)\n",
      "        print sum(lengths)/len(lengths)\n",
      "avglen(\"./python/sam.csv\")\n",
      "        "
     ],
     "language": "python",
     "metadata": {},
     "outputs": [
      {
       "output_type": "stream",
       "stream": "stdout",
       "text": [
        "[8, 4, 8, 4, 8, 4, 8, 4, 8, 4, 8, 4] 72 12\n",
        "6\n"
       ]
      }
     ],
     "prompt_number": 25
    },
    {
     "cell_type": "code",
     "collapsed": false,
     "input": [
      "# 39\n",
      "import random\n",
      "gn = random.randint(1, 20)\n",
      "done = False\n",
      "def guess(n, gn):\n",
      "    if n < gn:\n",
      "        print \"Your guess is low.\"\n",
      "        return False\n",
      "    elif n > gn:\n",
      "        print \"Your guess is high.\"\n",
      "        return False\n",
      "    else:\n",
      "        return True\n",
      "name = raw_input(\"Hello! What is your name?\")\n",
      "\n",
      "print \"Well, \" + name + \", I am thinking of a number between 1 and 20.\"\n",
      "count = 0\n",
      "while not done:\n",
      "    v = raw_input(\"Take a guess.\")\n",
      "    #print v\n",
      "    count += 1\n",
      "    if count > 2:\n",
      "        print \"number is \" + str(gn)\n",
      "        break\n",
      "    done = guess(int(v), gn)\n",
      "if done:\n",
      "    print \"Good job, \" + name + \" You guessed my number in \" + str(count) + \" guesses!\""
     ],
     "language": "python",
     "metadata": {},
     "outputs": [
      {
       "name": "stdout",
       "output_type": "stream",
       "stream": "stdout",
       "text": [
        "Hello! What is your name?ravi\n"
       ]
      },
      {
       "output_type": "stream",
       "stream": "stdout",
       "text": [
        "Well, ravi, I am thinking of a number between 1 and 20.\n"
       ]
      },
      {
       "name": "stdout",
       "output_type": "stream",
       "stream": "stdout",
       "text": [
        "Take a guess.10\n"
       ]
      },
      {
       "output_type": "stream",
       "stream": "stdout",
       "text": [
        "Your guess is high.\n"
       ]
      },
      {
       "name": "stdout",
       "output_type": "stream",
       "stream": "stdout",
       "text": [
        "Take a guess.5\n"
       ]
      },
      {
       "output_type": "stream",
       "stream": "stdout",
       "text": [
        "Your guess is high.\n"
       ]
      },
      {
       "name": "stdout",
       "output_type": "stream",
       "stream": "stdout",
       "text": [
        "Take a guess.2\n"
       ]
      },
      {
       "output_type": "stream",
       "stream": "stdout",
       "text": [
        "number is 3\n"
       ]
      }
     ],
     "prompt_number": 8
    },
    {
     "cell_type": "code",
     "collapsed": false,
     "input": [
      "# 40\n",
      "import random\n",
      "import itertools\n",
      "\n",
      "words = ['red', 'black', 'brown', 'green']\n",
      "word, anagram = random.sample(words, 1)[0], ''\n",
      "\n",
      "perms = itertools.permutations(word)\n",
      "for perm in perms:\n",
      "    if ''.join(perm) != word:\n",
      "        anagram = ''.join(perm)\n",
      "        break\n",
      "\n",
      "print \"Colour word anagram: %s\" % anagram\n",
      "input = raw_input(\"Guess the colour word!\\n\")\n",
      "\n",
      "while input != word:\n",
      "    input = raw_input(\"Guess the colour word!\\n\")\n",
      "\n",
      "print \"Correct!\""
     ],
     "language": "python",
     "metadata": {},
     "outputs": [
      {
       "output_type": "stream",
       "stream": "stdout",
       "text": [
        "Colour word anagram: grene\n"
       ]
      },
      {
       "name": "stdout",
       "output_type": "stream",
       "stream": "stdout",
       "text": [
        "Guess the colour word!\n",
        "greeen\n"
       ]
      },
      {
       "name": "stdout",
       "output_type": "stream",
       "stream": "stdout",
       "text": [
        "Guess the colour word!\n",
        "green\n"
       ]
      },
      {
       "output_type": "stream",
       "stream": "stdout",
       "text": [
        "Correct!\n"
       ]
      }
     ],
     "prompt_number": 13
    },
    {
     "cell_type": "code",
     "collapsed": false,
     "input": [
      "def lingo():\n",
      "    answer = \"tiger\"\n",
      "    done = False\n",
      "    while not done:\n",
      "        outstr = \"\"\n",
      "        uval = raw_input(\"guess word:\")\n",
      "        for i, char in enumerate(uval):\n",
      "            if char == answer[i]:\n",
      "                outstr += \"[\" + char + \"]\"\n",
      "            elif char in answer:\n",
      "                outstr += \"(\" + char + \")\"\n",
      "            else:\n",
      "                outstr += char\n",
      "        print \"clue: \" + outstr\n",
      "        if uval == answer:\n",
      "            done = True\n",
      "lingo()"
     ],
     "language": "python",
     "metadata": {},
     "outputs": [
      {
       "name": "stdout",
       "output_type": "stream",
       "stream": "stdout",
       "text": [
        "guess word:oh no\n"
       ]
      },
      {
       "output_type": "stream",
       "stream": "stdout",
       "text": [
        "clue: oh no\n"
       ]
      },
      {
       "name": "stdout",
       "output_type": "stream",
       "stream": "stdout",
       "text": [
        "guess word:hai\n"
       ]
      },
      {
       "output_type": "stream",
       "stream": "stdout",
       "text": [
        "clue: ha(i)\n"
       ]
      },
      {
       "name": "stdout",
       "output_type": "stream",
       "stream": "stdout",
       "text": [
        "guess word:india\n"
       ]
      },
      {
       "output_type": "stream",
       "stream": "stdout",
       "text": [
        "clue: (i)nd(i)a\n"
       ]
      },
      {
       "name": "stdout",
       "output_type": "stream",
       "stream": "stdout",
       "text": [
        "guess word:into\n"
       ]
      },
      {
       "output_type": "stream",
       "stream": "stdout",
       "text": [
        "clue: (i)n(t)o\n"
       ]
      },
      {
       "name": "stdout",
       "output_type": "stream",
       "stream": "stdout",
       "text": [
        "guess word:tick\n"
       ]
      },
      {
       "output_type": "stream",
       "stream": "stdout",
       "text": [
        "clue: [t][i]ck\n"
       ]
      },
      {
       "name": "stdout",
       "output_type": "stream",
       "stream": "stdout",
       "text": [
        "guess word:times\n"
       ]
      },
      {
       "output_type": "stream",
       "stream": "stdout",
       "text": [
        "clue: [t][i]m[e]s\n"
       ]
      },
      {
       "name": "stdout",
       "output_type": "stream",
       "stream": "stdout",
       "text": [
        "guess word:tiger\n"
       ]
      },
      {
       "output_type": "stream",
       "stream": "stdout",
       "text": [
        "clue: [t][i][g][e][r]\n"
       ]
      }
     ],
     "prompt_number": 15
    },
    {
     "cell_type": "code",
     "collapsed": false,
     "input": [
      "#43\n",
      "def find_words():\n",
      "    all_words = []\n",
      "    share = {}\n",
      "    with open(\"python/unixdict.txt\") as f:\n",
      "        for row in f.readlines():\n",
      "            all_words.append(row.strip())\n",
      "    for word in all_words:        \n",
      "        for curw in all_words:\n",
      "            if sorted(list(word)) == sorted(list(curw)):\n",
      "                if share.has_key(word):\n",
      "                    share[word].append(curw)\n",
      "                else:\n",
      "                    share[word] = [curw]\n",
      "    #print share\n",
      "find_words()\n",
      "    "
     ],
     "language": "python",
     "metadata": {},
     "outputs": [],
     "prompt_number": "*"
    },
    {
     "cell_type": "code",
     "collapsed": false,
     "input": [
      "#44\n",
      "#Here's some code that might accomplish this:\n",
      "\n",
      "from random import choice\n",
      "import sys\n",
      "def generateRandomString(length):\n",
      "    output = \"\"\n",
      "    for i in range(length):\n",
      "        #pick a random bracket\n",
      "        output = output + choice(['[',']'])\n",
      "    return output\n",
      "\n",
      "#As far matching the actual brackets\n",
      "\n",
      "def isCorrectParens(someCode):\n",
      "    choices = ['[',']']\n",
      "    stack = []\n",
      "    for c in someCode:\n",
      "        if c in choices:\n",
      "            if c == ']':\n",
      "                #pop off the stack\n",
      "                if len(stack) == 0:\n",
      "                    return False\n",
      "                else:\n",
      "                    stack.pop()\n",
      "            else:\n",
      "                #push onto the stack\n",
      "                stack.append(c)\n",
      "    return True\n",
      "\n",
      "#Here is the code for how you would take input from the command line\n",
      "\n",
      "if len(sys.argv) == 1:\n",
      "    #test a random string\n",
      "    generatedString = generateRandomString(10)\n",
      "    print \"Generated random string: \" + generatedString\n",
      "    print \"Is valid parens :\" + str(isCorrectParens(generatedString))\n",
      "\n",
      "if len(sys.argv) == 2:\n",
      "    #test the inputted string\n",
      "    print \"Inputted string: \"+sys.argv[1]\n",
      "    print \"Valid parens? :\"+str(isCorrectParens(sys.argv[1]))"
     ],
     "language": "python",
     "metadata": {},
     "outputs": [],
     "prompt_number": 22
    },
    {
     "cell_type": "code",
     "collapsed": false,
     "input": [
      "#45\n",
      "lines = '''audino bagon baltoy banette bidoof braviary bronzor carracosta charmeleon\n",
      "cresselia croagunk darmanitan deino emboar emolga exeggcute gabite\n",
      "girafarig gulpin haxorus heatmor heatran ivysaur jellicent jumpluff kangaskhan\n",
      "kricketune landorus ledyba loudred lumineon lunatone machamp magnezone mamoswine\n",
      "nosepass petilil pidgeotto pikachu pinsir poliwrath poochyena porygon2\n",
      "porygonz registeel relicanth remoraid rufflet sableye scolipede scrafty seaking\n",
      "sealeo silcoon simisear snivy snorlax spoink starly tirtouga trapinch treecko\n",
      "tyrogue vigoroth vulpix wailord wartortle whismur wingull yamask'''\n",
      "words = lines.replace(\"\\n\", \" \").split(\" \")\n",
      "max_pokemon = []\n",
      "pokemon = []\n",
      "\n",
      "def get_word(pokemon):\n",
      "    retstr = None\n",
      "    for w in words:\n",
      "       if w not in pokemon and pokemon[-1][-1] == w[0]:\n",
      "            retstr = w\n",
      "    return retstr\n",
      "\n",
      "for j in words:\n",
      "    pokemon = []\n",
      "    for num in range(0, len(words)):\n",
      "        if not pokemon:\n",
      "            pokemon.append(j)\n",
      "        else:\n",
      "            next_word = get_word(pokemon)\n",
      "            if next_word:\n",
      "                pokemon.append(next_word)\n",
      "    #print pokemon\n",
      "    if len(max_pokemon) < len(pokemon):\n",
      "        max_pokemon = pokemon\n",
      "print max_pokemon\n",
      "    "
     ],
     "language": "python",
     "metadata": {},
     "outputs": [
      {
       "output_type": "stream",
       "stream": "stdout",
       "text": [
        "['girafarig', 'gulpin', 'nosepass', 'starly', 'yamask', 'kricketune', 'exeggcute', 'emolga', 'audino']\n"
       ]
      }
     ],
     "prompt_number": 37
    },
    {
     "cell_type": "code",
     "collapsed": false,
     "input": [
      "#46\n",
      "words = {}\n",
      "all_words = []\n",
      "with open(\"python/unixdict.txt\") as f:\n",
      "    for row in f.readlines():\n",
      "        all_words.append(row.strip())\n",
      "for w in all_words:\n",
      "    curstr = \"\"\n",
      "    for index in range(1, len(w) + 1):\n",
      "        if index % 2 == 0:\n",
      "            curstr = curstr + w[index-1]\n",
      "        if len(curstr) >= 2:\n",
      "            for item in all_words:\n",
      "                if curstr == item:\n",
      "                    if words.has_key(w):\n",
      "                        if curstr not in words[w]:\n",
      "                            words[w].append(curstr)\n",
      "                    else:\n",
      "                        words[w] = [curstr]\n",
      "#print words"
     ],
     "language": "python",
     "metadata": {},
     "outputs": [],
     "prompt_number": 4
    }
   ],
   "metadata": {}
  }
 ]
}